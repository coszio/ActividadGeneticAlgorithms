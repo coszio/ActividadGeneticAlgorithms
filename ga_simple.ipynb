{
 "cells": [
  {
   "cell_type": "code",
   "execution_count": 1,
   "metadata": {},
   "outputs": [],
   "source": [
    "from deap import base, creator, tools, algorithms\n",
    "import numpy as np\n",
    "import pandas as pd\n",
    "import random\n",
    "import plotly.express as px"
   ]
  },
  {
   "cell_type": "code",
   "execution_count": 2,
   "metadata": {},
   "outputs": [
    {
     "name": "stdout",
     "output_type": "stream",
     "text": [
      "There are 24 items to choose\n",
      "Max weight is 6404180\n"
     ]
    },
    {
     "data": {
      "text/html": [
       "<div>\n",
       "<style scoped>\n",
       "    .dataframe tbody tr th:only-of-type {\n",
       "        vertical-align: middle;\n",
       "    }\n",
       "\n",
       "    .dataframe tbody tr th {\n",
       "        vertical-align: top;\n",
       "    }\n",
       "\n",
       "    .dataframe thead th {\n",
       "        text-align: right;\n",
       "    }\n",
       "</style>\n",
       "<table border=\"1\" class=\"dataframe\">\n",
       "  <thead>\n",
       "    <tr style=\"text-align: right;\">\n",
       "      <th></th>\n",
       "      <th>weight</th>\n",
       "      <th>profit</th>\n",
       "    </tr>\n",
       "  </thead>\n",
       "  <tbody>\n",
       "    <tr>\n",
       "      <th>0</th>\n",
       "      <td>382745</td>\n",
       "      <td>825594</td>\n",
       "    </tr>\n",
       "    <tr>\n",
       "      <th>1</th>\n",
       "      <td>799601</td>\n",
       "      <td>1677009</td>\n",
       "    </tr>\n",
       "    <tr>\n",
       "      <th>2</th>\n",
       "      <td>909247</td>\n",
       "      <td>1676628</td>\n",
       "    </tr>\n",
       "    <tr>\n",
       "      <th>3</th>\n",
       "      <td>729069</td>\n",
       "      <td>1523970</td>\n",
       "    </tr>\n",
       "    <tr>\n",
       "      <th>4</th>\n",
       "      <td>467902</td>\n",
       "      <td>943972</td>\n",
       "    </tr>\n",
       "  </tbody>\n",
       "</table>\n",
       "</div>"
      ],
      "text/plain": [
       "   weight   profit\n",
       "0  382745   825594\n",
       "1  799601  1677009\n",
       "2  909247  1676628\n",
       "3  729069  1523970\n",
       "4  467902   943972"
      ]
     },
     "execution_count": 2,
     "metadata": {},
     "output_type": "execute_result"
    }
   ],
   "source": [
    "# Load data\n",
    "MAX_WEIGHT = 6404180\n",
    "\n",
    "weights = profits = []\n",
    "\n",
    "with open('p08_w.txt') as w_file:\n",
    "  weights = w_file.readlines()\n",
    "\n",
    "with open('p08_p.txt') as p_file:\n",
    "  profits = p_file.readlines()\n",
    "\n",
    "weights = [int(x.strip()) for x in weights]\n",
    "profits = [int(x.strip()) for x in profits]\n",
    "\n",
    "data = pd.DataFrame({'weight': weights, 'profit': profits})\n",
    "count = data.count()\n",
    "assert count[0] == count[1]\n",
    "N = data.count()[0]\n",
    "print(f'There are {N} items to choose')\n",
    "print(f'Max weight is {MAX_WEIGHT}')\n",
    "data.head()"
   ]
  },
  {
   "cell_type": "code",
   "execution_count": 3,
   "metadata": {},
   "outputs": [],
   "source": [
    "# Define evaluation function. \n",
    "# In case that the sum of the weights is greater than the maximum weight, profit is zero.\n",
    "[0,1,0,0,0,1]\n",
    "def func_eval(ind, ):\n",
    "  \"\"\"Evaluation function for the individual.\"\"\"\n",
    "  return data.profit[ind].sum(),\n",
    "\n",
    "def feasible(ind, ):\n",
    "  \"\"\"Feasibility function for the individual. Returns True if feasible False\n",
    "  otherwise.\"\"\"\n",
    "  weight = data.weight[ind].sum()\n",
    "  return weight <= MAX_WEIGHT"
   ]
  },
  {
   "cell_type": "code",
   "execution_count": 4,
   "metadata": {},
   "outputs": [],
   "source": [
    "toolbox = base.Toolbox()\n",
    "\n",
    "toolbox.register('select', tools.selRoulette)\n",
    "toolbox.register('mate', tools.cxOnePoint)\n",
    "toolbox.register('mutate', tools.mutFlipBit, indpb=0.1)\n",
    "toolbox.register('evaluate', func_eval)\n",
    "toolbox.decorate('evaluate', tools.DeltaPenalty(feasible, 0.0))\n",
    "\n",
    "creator.create('FitnessMax', base.Fitness, weights=(1.0,))\n",
    "creator.create('Individual', list, fitness=creator.FitnessMax)\n",
    "\n",
    "toolbox.register('bit', random.choice, seq=[True, False])\n",
    "toolbox.register('individual', tools.initRepeat, creator.Individual, toolbox.bit, n=N)\n",
    "\n",
    "\n",
    "toolbox.register('population', tools.initRepeat, list, toolbox.individual)\n",
    "\n",
    "stats = tools.Statistics(key=lambda ind: ind.fitness.values)\n",
    "stats.register('min', np.min)\n",
    "stats.register('max', np.max)\n",
    "stats.register('mean', np.mean)\n",
    "stats.register('std', np.std)\n",
    "stats.register('median', np.median)\n",
    "\n",
    "pop = toolbox.population(n=20)\n",
    "\n",
    "hof1 = tools.HallOfFame(3)\n",
    "hof2 = tools.HallOfFame(3)\n",
    "hof3 = tools.HallOfFame(3)\n"
   ]
  },
  {
   "cell_type": "code",
   "execution_count": 13,
   "metadata": {},
   "outputs": [],
   "source": [
    "from concurrent.futures import ThreadPoolExecutor\n",
    "\n",
    "n_experiments = 30\n",
    "n_gens = 100\n",
    "\n",
    "def eaSimple(_):\n",
    "\n",
    "  _, log = algorithms.eaSimple(pop, toolbox, cxpb=0.7, mutpb=0.2, ngen=n_gens, stats=stats, halloffame=hof1, verbose=False)\n",
    "  log = pd.DataFrame(log)\n",
    "  return log\n",
    "\n",
    "def eaMuPlusLambda(_):\n",
    "\n",
    "  _, log = algorithms.eaMuPlusLambda(pop, toolbox, mu=5, lambda_=10, cxpb=0.7, mutpb=0.2, ngen=n_gens, stats=stats, halloffame=hof2, verbose=False)\n",
    "  log = pd.DataFrame(log)\n",
    "  return log\n",
    "\n",
    "def eaMuCommaLambda(_):\n",
    "  \n",
    "  _, log = algorithms.eaMuCommaLambda(pop, toolbox, mu=5, lambda_=10, cxpb=0.7, mutpb=0.2, ngen=n_gens, stats=stats, halloffame=hof3, verbose=False)\n",
    "  log = pd.DataFrame(log)\n",
    "  return log\n",
    "\n",
    "def experiment(algorithm, n_experiments):\n",
    "  with ThreadPoolExecutor() as executor:\n",
    "    logs = executor.map(algorithm,range(n_experiments))\n",
    "  return list(logs)\n"
   ]
  },
  {
   "cell_type": "code",
   "execution_count": 14,
   "metadata": {},
   "outputs": [],
   "source": [
    "\n",
    "logs1 = experiment(eaSimple, n_experiments)"
   ]
  },
  {
   "cell_type": "code",
   "execution_count": 7,
   "metadata": {},
   "outputs": [],
   "source": [
    "def get_summary(logs):\n",
    "  summary = pd.DataFrame()\n",
    "  maxs = [log['max'] for log in logs]\n",
    "  assert len(maxs) == n_experiments\n",
    "  summary['std'] = np.std(maxs, axis=0)\n",
    "  summary['avg best'] = np.mean(maxs, axis=0)\n",
    "  summary['avg+std best'] = summary['avg best'] + summary['std']\n",
    "  summary['avg-std best'] = summary['avg best'] - summary['std'] \n",
    "  return summary"
   ]
  },
  {
   "cell_type": "code",
   "execution_count": 15,
   "metadata": {},
   "outputs": [
    {
     "name": "stdout",
     "output_type": "stream",
     "text": [
      "profit: 13394815\n",
      "profit: 13374655\n",
      "profit: 13363903\n"
     ]
    }
   ],
   "source": [
    "from plotly.subplots import make_subplots\n",
    "import plotly.graph_objects as go\n",
    "\n",
    "fig = make_subplots(rows=1, cols=3,\n",
    "                    shared_yaxes=True,\n",
    "                    horizontal_spacing=0.02)\n",
    "\n",
    "\n",
    "def print_hof(hof):\n",
    "  for ind in hof:\n",
    "    print(f'profit: {func_eval(ind)[0]}')\n",
    "    ind = np.array(ind)\n",
    "    ind = np.column_stack((ind,np.zeros(N),))\n",
    "  #   fig.add_trace(go.Image(z=ind,))\n",
    "  # fig.show()\n",
    "print_hof(hof1)"
   ]
  },
  {
   "cell_type": "code",
   "execution_count": 16,
   "metadata": {},
   "outputs": [
    {
     "data": {
      "application/vnd.plotly.v1+json": {
       "config": {
        "plotlyServerURL": "https://plot.ly"
       },
       "data": [
        {
         "hovertemplate": "variable=avg+std best<br>index=%{x}<br>value=%{y}<extra></extra>",
         "legendgroup": "avg+std best",
         "line": {
          "color": "#636efa",
          "dash": "dot"
         },
         "mode": "lines",
         "name": "avg+std best",
         "orientation": "v",
         "showlegend": true,
         "type": "scatter",
         "x": [
          0,
          1,
          2,
          3,
          4,
          5,
          6,
          7,
          8,
          9,
          10,
          11,
          12,
          13,
          14,
          15,
          16,
          17,
          18,
          19,
          20,
          21,
          22,
          23,
          24,
          25,
          26,
          27,
          28,
          29,
          30,
          31,
          32,
          33,
          34,
          35,
          36,
          37,
          38,
          39,
          40,
          41,
          42,
          43,
          44,
          45,
          46,
          47,
          48,
          49,
          50,
          51,
          52,
          53,
          54,
          55,
          56,
          57,
          58,
          59,
          60,
          61,
          62,
          63,
          64,
          65,
          66,
          67,
          68,
          69,
          70,
          71,
          72,
          73,
          74,
          75,
          76,
          77,
          78,
          79,
          80,
          81,
          82,
          83,
          84,
          85,
          86,
          87,
          88,
          89,
          90,
          91,
          92,
          93,
          94,
          95,
          96,
          97,
          98,
          99,
          100
         ],
         "xaxis": "x",
         "y": [
          12746448.907932544,
          12725749.549270973,
          12726872.96896274,
          12825085.9407188,
          12811664.93976777,
          12731692.801499654,
          12923309.158721127,
          12907072.447030136,
          12863218.815263877,
          13035208.004797729,
          12992504.184081847,
          12838963.70371456,
          12971849.169775605,
          13001445.529825643,
          12892763.38964017,
          13023218.994767826,
          12978473.153829392,
          12941347.009173319,
          12875086.711541137,
          12684620.974830905,
          12858675.148082603,
          12857129.023240708,
          12870424.820314286,
          12838300.800385937,
          12898482.614537846,
          12785573.687168878,
          12797842.833666345,
          12876270.22766621,
          12816964.935607295,
          12826596.621787941,
          12992973.856073719,
          12945404.04226109,
          13018124.543223944,
          12772949.984742835,
          12918297.44197788,
          12937672.698489273,
          12847745.726999354,
          12826132.597045414,
          12734856.21897674,
          12826368.650875177,
          12950980.199736405,
          12868422.841906687,
          12951020.703200392,
          12835396.808581498,
          12950443.578151157,
          12815868.675464077,
          12901688.617761377,
          12819624.598237466,
          12883492.000750626,
          12912729.48148559,
          12948590.979241943,
          12777896.269563757,
          12900141.84854709,
          12874025.751581674,
          12897841.304146778,
          12959326.953253318,
          12867733.216231432,
          12796386.150064297,
          12892579.473121284,
          12951509.439405534,
          12937797.686091604,
          13113287.293437002,
          13076355.671494532,
          13018398.462316299,
          13007315.876710786,
          12966777.318034794,
          13017819.070754122,
          12958365.763337553,
          13159476.049818581,
          12876877.150268644,
          12922908.876160981,
          12889116.559506323,
          12944984.798918465,
          12903194.513276832,
          12995565.682751503,
          12958735.48736265,
          12875761.577148246,
          12910633.10343827,
          13026777.321221408,
          12949859.331824029,
          12897219.446318896,
          12967546.936986089,
          12997624.579180358,
          12853097.346073171,
          12989113.53504359,
          13032761.313582677,
          12910791.039097354,
          13025705.415440196,
          13024546.864706932,
          12940804.385128258,
          13005284.886292325,
          12959694.002466384,
          13012213.218308633,
          13012882.448109578,
          12943286.00912928,
          12905161.387222055,
          12895142.91797244,
          12994244.874926811,
          12928739.908625005,
          12999820.08449704,
          12883777.786393814
         ],
         "yaxis": "y"
        },
        {
         "hovertemplate": "variable=avg-std best<br>index=%{x}<br>value=%{y}<extra></extra>",
         "legendgroup": "avg-std best",
         "line": {
          "color": "#EF553B",
          "dash": "dot"
         },
         "mode": "lines",
         "name": "avg-std best",
         "orientation": "v",
         "showlegend": true,
         "type": "scatter",
         "x": [
          0,
          1,
          2,
          3,
          4,
          5,
          6,
          7,
          8,
          9,
          10,
          11,
          12,
          13,
          14,
          15,
          16,
          17,
          18,
          19,
          20,
          21,
          22,
          23,
          24,
          25,
          26,
          27,
          28,
          29,
          30,
          31,
          32,
          33,
          34,
          35,
          36,
          37,
          38,
          39,
          40,
          41,
          42,
          43,
          44,
          45,
          46,
          47,
          48,
          49,
          50,
          51,
          52,
          53,
          54,
          55,
          56,
          57,
          58,
          59,
          60,
          61,
          62,
          63,
          64,
          65,
          66,
          67,
          68,
          69,
          70,
          71,
          72,
          73,
          74,
          75,
          76,
          77,
          78,
          79,
          80,
          81,
          82,
          83,
          84,
          85,
          86,
          87,
          88,
          89,
          90,
          91,
          92,
          93,
          94,
          95,
          96,
          97,
          98,
          99,
          100
         ],
         "xaxis": "x",
         "y": [
          11575854.02540079,
          11742221.450729027,
          11807503.764370594,
          11699088.392614532,
          11540460.593565565,
          11667550.065167014,
          11749523.70794554,
          11441634.752969863,
          11484224.118069457,
          11620749.595202273,
          11592797.68258482,
          11812484.89628544,
          11686157.163557727,
          11768890.60350769,
          11619297.410359832,
          11617729.07189884,
          11768958.246170606,
          11728184.524160016,
          11803302.288458863,
          11802807.958502429,
          11703125.585250732,
          11980314.576759294,
          11644007.646352379,
          11810210.932947397,
          11614638.185462154,
          11916197.046164457,
          12112524.033000322,
          12110512.839000456,
          11909734.33105937,
          11913949.644878725,
          11801566.943926282,
          11576567.557738911,
          11438019.19010939,
          11820596.881923832,
          11633735.15802212,
          11708322.968177395,
          11818864.539667312,
          11921405.602954585,
          11883509.914356593,
          11790348.41579149,
          11848787.600263596,
          12116512.491426645,
          11920277.096799608,
          11901154.391418502,
          11558392.08851551,
          11905129.924535925,
          11407380.382238623,
          11426315.135095868,
          11794889.999249374,
          11634588.785181075,
          11736721.020758057,
          11882286.263769578,
          11771283.084786244,
          11784568.048418326,
          11807445.56251989,
          11774122.046746682,
          11917001.450435236,
          11767075.71660237,
          11580260.860212049,
          11581496.2939278,
          11706054.04724173,
          11444293.239896333,
          11718827.595172133,
          11871711.271017035,
          11855081.123289214,
          11847576.21529854,
          11610567.662579212,
          11787471.836662449,
          11377131.016848085,
          11688894.849731356,
          11568495.92383902,
          11764469.37382701,
          11646132.067748202,
          11922553.353389835,
          11739244.983915165,
          11826709.845970683,
          11993735.289518422,
          12052741.963228397,
          12106738.34544526,
          11970535.468175972,
          11895703.487014437,
          12023855.329680577,
          11988146.687486308,
          12127222.787260162,
          11872591.198289745,
          11899443.619750656,
          12014422.294235978,
          11735866.65122647,
          11522994.268626401,
          11991920.548205076,
          11871311.38037434,
          12017952.264200281,
          12282560.848358033,
          11895076.618557088,
          11952206.324204052,
          11695475.346111279,
          11556934.948694227,
          11768062.591739854,
          11956632.224708328,
          11891212.582169628,
          11945866.480272852
         ],
         "yaxis": "y"
        },
        {
         "line": {
          "color": "rgb(0,176,246)"
         },
         "name": "avg best",
         "type": "scatter",
         "x": [
          0,
          1,
          2,
          3,
          4,
          5,
          6,
          7,
          8,
          9,
          10,
          11,
          12,
          13,
          14,
          15,
          16,
          17,
          18,
          19,
          20,
          21,
          22,
          23,
          24,
          25,
          26,
          27,
          28,
          29,
          30,
          31,
          32,
          33,
          34,
          35,
          36,
          37,
          38,
          39,
          40,
          41,
          42,
          43,
          44,
          45,
          46,
          47,
          48,
          49,
          50,
          51,
          52,
          53,
          54,
          55,
          56,
          57,
          58,
          59,
          60,
          61,
          62,
          63,
          64,
          65,
          66,
          67,
          68,
          69,
          70,
          71,
          72,
          73,
          74,
          75,
          76,
          77,
          78,
          79,
          80,
          81,
          82,
          83,
          84,
          85,
          86,
          87,
          88,
          89,
          90,
          91,
          92,
          93,
          94,
          95,
          96,
          97,
          98,
          99,
          100
         ],
         "y": [
          12161151.466666667,
          12233985.5,
          12267188.366666667,
          12262087.166666666,
          12176062.766666668,
          12199621.433333334,
          12336416.433333334,
          12174353.6,
          12173721.466666667,
          12327978.8,
          12292650.933333334,
          12325724.3,
          12329003.166666666,
          12385168.066666666,
          12256030.4,
          12320474.033333333,
          12373715.7,
          12334765.766666668,
          12339194.5,
          12243714.466666667,
          12280900.366666667,
          12418721.8,
          12257216.233333332,
          12324255.866666667,
          12256560.4,
          12350885.366666667,
          12455183.433333334,
          12493391.533333333,
          12363349.633333333,
          12370273.133333333,
          12397270.4,
          12260985.8,
          12228071.866666667,
          12296773.433333334,
          12276016.3,
          12322997.833333334,
          12333305.133333333,
          12373769.1,
          12309183.066666666,
          12308358.533333333,
          12399883.9,
          12492467.666666666,
          12435648.9,
          12368275.6,
          12254417.833333334,
          12360499.3,
          12154534.5,
          12122969.866666667,
          12339191,
          12273659.133333333,
          12342656,
          12330091.266666668,
          12335712.466666667,
          12329296.9,
          12352643.433333334,
          12366724.5,
          12392367.333333334,
          12281730.933333334,
          12236420.166666666,
          12266502.866666667,
          12321925.866666667,
          12278790.266666668,
          12397591.633333333,
          12445054.866666667,
          12431198.5,
          12407176.766666668,
          12314193.366666667,
          12372918.8,
          12268303.533333333,
          12282886,
          12245702.4,
          12326792.966666667,
          12295558.433333334,
          12412873.933333334,
          12367405.333333334,
          12392722.666666666,
          12434748.433333334,
          12481687.533333333,
          12566757.833333334,
          12460197.4,
          12396461.466666667,
          12495701.133333333,
          12492885.633333333,
          12490160.066666666,
          12430852.366666667,
          12466102.466666667,
          12462606.666666666,
          12380786.033333333,
          12273770.566666666,
          12466362.466666667,
          12438298.133333333,
          12488823.133333333,
          12647387.033333333,
          12453979.533333333,
          12447746.166666666,
          12300318.366666667,
          12226038.933333334,
          12381153.733333332,
          12442686.066666666,
          12445516.333333334,
          12414822.133333333
         ]
        }
       ],
       "layout": {
        "legend": {
         "title": {
          "text": "variable"
         },
         "tracegroupgap": 0
        },
        "margin": {
         "t": 60
        },
        "template": {
         "data": {
          "bar": [
           {
            "error_x": {
             "color": "#2a3f5f"
            },
            "error_y": {
             "color": "#2a3f5f"
            },
            "marker": {
             "line": {
              "color": "#E5ECF6",
              "width": 0.5
             }
            },
            "type": "bar"
           }
          ],
          "barpolar": [
           {
            "marker": {
             "line": {
              "color": "#E5ECF6",
              "width": 0.5
             }
            },
            "type": "barpolar"
           }
          ],
          "carpet": [
           {
            "aaxis": {
             "endlinecolor": "#2a3f5f",
             "gridcolor": "white",
             "linecolor": "white",
             "minorgridcolor": "white",
             "startlinecolor": "#2a3f5f"
            },
            "baxis": {
             "endlinecolor": "#2a3f5f",
             "gridcolor": "white",
             "linecolor": "white",
             "minorgridcolor": "white",
             "startlinecolor": "#2a3f5f"
            },
            "type": "carpet"
           }
          ],
          "choropleth": [
           {
            "colorbar": {
             "outlinewidth": 0,
             "ticks": ""
            },
            "type": "choropleth"
           }
          ],
          "contour": [
           {
            "colorbar": {
             "outlinewidth": 0,
             "ticks": ""
            },
            "colorscale": [
             [
              0,
              "#0d0887"
             ],
             [
              0.1111111111111111,
              "#46039f"
             ],
             [
              0.2222222222222222,
              "#7201a8"
             ],
             [
              0.3333333333333333,
              "#9c179e"
             ],
             [
              0.4444444444444444,
              "#bd3786"
             ],
             [
              0.5555555555555556,
              "#d8576b"
             ],
             [
              0.6666666666666666,
              "#ed7953"
             ],
             [
              0.7777777777777778,
              "#fb9f3a"
             ],
             [
              0.8888888888888888,
              "#fdca26"
             ],
             [
              1,
              "#f0f921"
             ]
            ],
            "type": "contour"
           }
          ],
          "contourcarpet": [
           {
            "colorbar": {
             "outlinewidth": 0,
             "ticks": ""
            },
            "type": "contourcarpet"
           }
          ],
          "heatmap": [
           {
            "colorbar": {
             "outlinewidth": 0,
             "ticks": ""
            },
            "colorscale": [
             [
              0,
              "#0d0887"
             ],
             [
              0.1111111111111111,
              "#46039f"
             ],
             [
              0.2222222222222222,
              "#7201a8"
             ],
             [
              0.3333333333333333,
              "#9c179e"
             ],
             [
              0.4444444444444444,
              "#bd3786"
             ],
             [
              0.5555555555555556,
              "#d8576b"
             ],
             [
              0.6666666666666666,
              "#ed7953"
             ],
             [
              0.7777777777777778,
              "#fb9f3a"
             ],
             [
              0.8888888888888888,
              "#fdca26"
             ],
             [
              1,
              "#f0f921"
             ]
            ],
            "type": "heatmap"
           }
          ],
          "heatmapgl": [
           {
            "colorbar": {
             "outlinewidth": 0,
             "ticks": ""
            },
            "colorscale": [
             [
              0,
              "#0d0887"
             ],
             [
              0.1111111111111111,
              "#46039f"
             ],
             [
              0.2222222222222222,
              "#7201a8"
             ],
             [
              0.3333333333333333,
              "#9c179e"
             ],
             [
              0.4444444444444444,
              "#bd3786"
             ],
             [
              0.5555555555555556,
              "#d8576b"
             ],
             [
              0.6666666666666666,
              "#ed7953"
             ],
             [
              0.7777777777777778,
              "#fb9f3a"
             ],
             [
              0.8888888888888888,
              "#fdca26"
             ],
             [
              1,
              "#f0f921"
             ]
            ],
            "type": "heatmapgl"
           }
          ],
          "histogram": [
           {
            "marker": {
             "colorbar": {
              "outlinewidth": 0,
              "ticks": ""
             }
            },
            "type": "histogram"
           }
          ],
          "histogram2d": [
           {
            "colorbar": {
             "outlinewidth": 0,
             "ticks": ""
            },
            "colorscale": [
             [
              0,
              "#0d0887"
             ],
             [
              0.1111111111111111,
              "#46039f"
             ],
             [
              0.2222222222222222,
              "#7201a8"
             ],
             [
              0.3333333333333333,
              "#9c179e"
             ],
             [
              0.4444444444444444,
              "#bd3786"
             ],
             [
              0.5555555555555556,
              "#d8576b"
             ],
             [
              0.6666666666666666,
              "#ed7953"
             ],
             [
              0.7777777777777778,
              "#fb9f3a"
             ],
             [
              0.8888888888888888,
              "#fdca26"
             ],
             [
              1,
              "#f0f921"
             ]
            ],
            "type": "histogram2d"
           }
          ],
          "histogram2dcontour": [
           {
            "colorbar": {
             "outlinewidth": 0,
             "ticks": ""
            },
            "colorscale": [
             [
              0,
              "#0d0887"
             ],
             [
              0.1111111111111111,
              "#46039f"
             ],
             [
              0.2222222222222222,
              "#7201a8"
             ],
             [
              0.3333333333333333,
              "#9c179e"
             ],
             [
              0.4444444444444444,
              "#bd3786"
             ],
             [
              0.5555555555555556,
              "#d8576b"
             ],
             [
              0.6666666666666666,
              "#ed7953"
             ],
             [
              0.7777777777777778,
              "#fb9f3a"
             ],
             [
              0.8888888888888888,
              "#fdca26"
             ],
             [
              1,
              "#f0f921"
             ]
            ],
            "type": "histogram2dcontour"
           }
          ],
          "mesh3d": [
           {
            "colorbar": {
             "outlinewidth": 0,
             "ticks": ""
            },
            "type": "mesh3d"
           }
          ],
          "parcoords": [
           {
            "line": {
             "colorbar": {
              "outlinewidth": 0,
              "ticks": ""
             }
            },
            "type": "parcoords"
           }
          ],
          "pie": [
           {
            "automargin": true,
            "type": "pie"
           }
          ],
          "scatter": [
           {
            "marker": {
             "colorbar": {
              "outlinewidth": 0,
              "ticks": ""
             }
            },
            "type": "scatter"
           }
          ],
          "scatter3d": [
           {
            "line": {
             "colorbar": {
              "outlinewidth": 0,
              "ticks": ""
             }
            },
            "marker": {
             "colorbar": {
              "outlinewidth": 0,
              "ticks": ""
             }
            },
            "type": "scatter3d"
           }
          ],
          "scattercarpet": [
           {
            "marker": {
             "colorbar": {
              "outlinewidth": 0,
              "ticks": ""
             }
            },
            "type": "scattercarpet"
           }
          ],
          "scattergeo": [
           {
            "marker": {
             "colorbar": {
              "outlinewidth": 0,
              "ticks": ""
             }
            },
            "type": "scattergeo"
           }
          ],
          "scattergl": [
           {
            "marker": {
             "colorbar": {
              "outlinewidth": 0,
              "ticks": ""
             }
            },
            "type": "scattergl"
           }
          ],
          "scattermapbox": [
           {
            "marker": {
             "colorbar": {
              "outlinewidth": 0,
              "ticks": ""
             }
            },
            "type": "scattermapbox"
           }
          ],
          "scatterpolar": [
           {
            "marker": {
             "colorbar": {
              "outlinewidth": 0,
              "ticks": ""
             }
            },
            "type": "scatterpolar"
           }
          ],
          "scatterpolargl": [
           {
            "marker": {
             "colorbar": {
              "outlinewidth": 0,
              "ticks": ""
             }
            },
            "type": "scatterpolargl"
           }
          ],
          "scatterternary": [
           {
            "marker": {
             "colorbar": {
              "outlinewidth": 0,
              "ticks": ""
             }
            },
            "type": "scatterternary"
           }
          ],
          "surface": [
           {
            "colorbar": {
             "outlinewidth": 0,
             "ticks": ""
            },
            "colorscale": [
             [
              0,
              "#0d0887"
             ],
             [
              0.1111111111111111,
              "#46039f"
             ],
             [
              0.2222222222222222,
              "#7201a8"
             ],
             [
              0.3333333333333333,
              "#9c179e"
             ],
             [
              0.4444444444444444,
              "#bd3786"
             ],
             [
              0.5555555555555556,
              "#d8576b"
             ],
             [
              0.6666666666666666,
              "#ed7953"
             ],
             [
              0.7777777777777778,
              "#fb9f3a"
             ],
             [
              0.8888888888888888,
              "#fdca26"
             ],
             [
              1,
              "#f0f921"
             ]
            ],
            "type": "surface"
           }
          ],
          "table": [
           {
            "cells": {
             "fill": {
              "color": "#EBF0F8"
             },
             "line": {
              "color": "white"
             }
            },
            "header": {
             "fill": {
              "color": "#C8D4E3"
             },
             "line": {
              "color": "white"
             }
            },
            "type": "table"
           }
          ]
         },
         "layout": {
          "annotationdefaults": {
           "arrowcolor": "#2a3f5f",
           "arrowhead": 0,
           "arrowwidth": 1
          },
          "coloraxis": {
           "colorbar": {
            "outlinewidth": 0,
            "ticks": ""
           }
          },
          "colorscale": {
           "diverging": [
            [
             0,
             "#8e0152"
            ],
            [
             0.1,
             "#c51b7d"
            ],
            [
             0.2,
             "#de77ae"
            ],
            [
             0.3,
             "#f1b6da"
            ],
            [
             0.4,
             "#fde0ef"
            ],
            [
             0.5,
             "#f7f7f7"
            ],
            [
             0.6,
             "#e6f5d0"
            ],
            [
             0.7,
             "#b8e186"
            ],
            [
             0.8,
             "#7fbc41"
            ],
            [
             0.9,
             "#4d9221"
            ],
            [
             1,
             "#276419"
            ]
           ],
           "sequential": [
            [
             0,
             "#0d0887"
            ],
            [
             0.1111111111111111,
             "#46039f"
            ],
            [
             0.2222222222222222,
             "#7201a8"
            ],
            [
             0.3333333333333333,
             "#9c179e"
            ],
            [
             0.4444444444444444,
             "#bd3786"
            ],
            [
             0.5555555555555556,
             "#d8576b"
            ],
            [
             0.6666666666666666,
             "#ed7953"
            ],
            [
             0.7777777777777778,
             "#fb9f3a"
            ],
            [
             0.8888888888888888,
             "#fdca26"
            ],
            [
             1,
             "#f0f921"
            ]
           ],
           "sequentialminus": [
            [
             0,
             "#0d0887"
            ],
            [
             0.1111111111111111,
             "#46039f"
            ],
            [
             0.2222222222222222,
             "#7201a8"
            ],
            [
             0.3333333333333333,
             "#9c179e"
            ],
            [
             0.4444444444444444,
             "#bd3786"
            ],
            [
             0.5555555555555556,
             "#d8576b"
            ],
            [
             0.6666666666666666,
             "#ed7953"
            ],
            [
             0.7777777777777778,
             "#fb9f3a"
            ],
            [
             0.8888888888888888,
             "#fdca26"
            ],
            [
             1,
             "#f0f921"
            ]
           ]
          },
          "colorway": [
           "#636efa",
           "#EF553B",
           "#00cc96",
           "#ab63fa",
           "#FFA15A",
           "#19d3f3",
           "#FF6692",
           "#B6E880",
           "#FF97FF",
           "#FECB52"
          ],
          "font": {
           "color": "#2a3f5f"
          },
          "geo": {
           "bgcolor": "white",
           "lakecolor": "white",
           "landcolor": "#E5ECF6",
           "showlakes": true,
           "showland": true,
           "subunitcolor": "white"
          },
          "hoverlabel": {
           "align": "left"
          },
          "hovermode": "closest",
          "mapbox": {
           "style": "light"
          },
          "paper_bgcolor": "white",
          "plot_bgcolor": "#E5ECF6",
          "polar": {
           "angularaxis": {
            "gridcolor": "white",
            "linecolor": "white",
            "ticks": ""
           },
           "bgcolor": "#E5ECF6",
           "radialaxis": {
            "gridcolor": "white",
            "linecolor": "white",
            "ticks": ""
           }
          },
          "scene": {
           "xaxis": {
            "backgroundcolor": "#E5ECF6",
            "gridcolor": "white",
            "gridwidth": 2,
            "linecolor": "white",
            "showbackground": true,
            "ticks": "",
            "zerolinecolor": "white"
           },
           "yaxis": {
            "backgroundcolor": "#E5ECF6",
            "gridcolor": "white",
            "gridwidth": 2,
            "linecolor": "white",
            "showbackground": true,
            "ticks": "",
            "zerolinecolor": "white"
           },
           "zaxis": {
            "backgroundcolor": "#E5ECF6",
            "gridcolor": "white",
            "gridwidth": 2,
            "linecolor": "white",
            "showbackground": true,
            "ticks": "",
            "zerolinecolor": "white"
           }
          },
          "shapedefaults": {
           "line": {
            "color": "#2a3f5f"
           }
          },
          "ternary": {
           "aaxis": {
            "gridcolor": "white",
            "linecolor": "white",
            "ticks": ""
           },
           "baxis": {
            "gridcolor": "white",
            "linecolor": "white",
            "ticks": ""
           },
           "bgcolor": "#E5ECF6",
           "caxis": {
            "gridcolor": "white",
            "linecolor": "white",
            "ticks": ""
           }
          },
          "title": {
           "x": 0.05
          },
          "xaxis": {
           "automargin": true,
           "gridcolor": "white",
           "linecolor": "white",
           "ticks": "",
           "title": {
            "standoff": 15
           },
           "zerolinecolor": "white",
           "zerolinewidth": 2
          },
          "yaxis": {
           "automargin": true,
           "gridcolor": "white",
           "linecolor": "white",
           "ticks": "",
           "title": {
            "standoff": 15
           },
           "zerolinecolor": "white",
           "zerolinewidth": 2
          }
         }
        },
        "xaxis": {
         "anchor": "y",
         "domain": [
          0,
          1
         ],
         "title": {
          "text": "index"
         }
        },
        "yaxis": {
         "anchor": "x",
         "domain": [
          0,
          1
         ],
         "title": {
          "text": "value"
         }
        }
       }
      }
     },
     "metadata": {},
     "output_type": "display_data"
    }
   ],
   "source": [
    "def plot_bests(logs):\n",
    "  summary = get_summary(logs)\n",
    "  fig = px.line(summary, y=['avg+std best', 'avg-std best'],line_dash_sequence=['dot'])\n",
    "  fig.add_trace(\n",
    "    go.Scatter(\n",
    "      x=summary.index, y=summary['avg best'],\n",
    "      line_color='rgb(0,176,246)',\n",
    "      name='avg best'))\n",
    "  fig.show()\n",
    "plot_bests(logs1)"
   ]
  },
  {
   "cell_type": "code",
   "execution_count": 10,
   "metadata": {},
   "outputs": [
    {
     "name": "stdout",
     "output_type": "stream",
     "text": [
      "profit: 13338386\n",
      "profit: 13329872\n",
      "profit: 13315252\n"
     ]
    },
    {
     "data": {
      "application/vnd.plotly.v1+json": {
       "config": {
        "plotlyServerURL": "https://plot.ly"
       },
       "data": [
        {
         "hovertemplate": "variable=avg+std best<br>index=%{x}<br>value=%{y}<extra></extra>",
         "legendgroup": "avg+std best",
         "line": {
          "color": "#636efa",
          "dash": "dot"
         },
         "mode": "lines",
         "name": "avg+std best",
         "orientation": "v",
         "showlegend": true,
         "type": "scatter",
         "x": [
          0,
          1,
          2,
          3,
          4,
          5,
          6,
          7,
          8,
          9,
          10,
          11,
          12,
          13,
          14,
          15,
          16,
          17,
          18,
          19,
          20,
          21,
          22,
          23,
          24,
          25,
          26,
          27,
          28,
          29,
          30,
          31,
          32,
          33,
          34,
          35,
          36,
          37,
          38,
          39,
          40,
          41,
          42,
          43,
          44,
          45,
          46,
          47,
          48,
          49,
          50,
          51,
          52,
          53,
          54,
          55,
          56,
          57,
          58,
          59,
          60,
          61,
          62,
          63,
          64,
          65,
          66,
          67,
          68,
          69,
          70,
          71,
          72,
          73,
          74,
          75,
          76,
          77,
          78,
          79,
          80,
          81,
          82,
          83,
          84,
          85,
          86,
          87,
          88,
          89,
          90,
          91,
          92,
          93,
          94,
          95,
          96,
          97,
          98,
          99,
          100
         ],
         "xaxis": "x",
         "y": [
          12941371.233678104,
          12398425.52652055,
          12503559.197486313,
          12655001.572013795,
          12512997.08312998,
          12575212.417381259,
          12562953.15988684,
          12710416.087873846,
          12738533.345727848,
          12637982.788319647,
          12669352.544796044,
          12658349.55215754,
          12641508.936155867,
          12751142.033709921,
          12810045.649519883,
          12827998.554008815,
          12693966.679733723,
          12724397.67998383,
          12786541.914498033,
          12925247.461925829,
          12989884.667934882,
          12975450.724863667,
          12939651.410014447,
          12902911.994930482,
          12817747.69927627,
          12838626.4639595,
          12845882.115646113,
          12852622.675470069,
          13049699.261622276,
          13118883.524271257,
          13054772.452167887,
          12911849.79739387,
          13000087.05410056,
          13111902.509061756,
          13060543.968781557,
          12856093.919944497,
          12876833.541000336,
          13008477.938279904,
          13060258.078983858,
          13118387.817293642,
          13245847.299412549,
          13159430.21488391,
          12917694.270975107,
          12940407.583475607,
          12856078.919891225,
          12881012.471655842,
          12822526.422210483,
          13050827.998763263,
          13115671.325445522,
          13053578.69754183,
          13116556.760202585,
          13072039.382175457,
          13002024.057824582,
          12990267.799744556,
          13013488.589224363,
          13106025.24016689,
          12977050.601015404,
          12980465.440220578,
          13005718.639012149,
          12840831.281231225,
          12728420.925900696,
          12714954.42887615,
          12783979.11307549,
          12771979.368503738,
          12789242.432622768,
          12770509.649277464,
          12721354.30522606,
          12771055.512858842,
          12926651.637309033,
          12850000.52214434,
          12748735.436302867,
          12800589.66036462,
          12814246.769495983,
          12774485.936805768,
          12760032.800503388,
          12968032.939825613,
          12814027.927694257,
          12809307.04974267,
          12803480.845453475,
          12950117.177142657,
          12709176.028236128,
          12819222.97559211,
          12862121.785600452,
          12715186.628674712,
          12785676.693018563,
          12692322.732773762,
          12750350.320564328,
          12793835.370050816,
          12903628.61718273,
          12975691.226437097,
          12878899.771601478,
          12700890.223808898,
          12748551.129652716,
          12756084.368328769,
          12828797.319557337,
          12813365.486923698,
          12850886.496746866,
          13001805.931867257,
          12872555.261274364,
          12867604.659750674,
          12986180.954074344
         ],
         "yaxis": "y"
        },
        {
         "hovertemplate": "variable=avg-std best<br>index=%{x}<br>value=%{y}<extra></extra>",
         "legendgroup": "avg-std best",
         "line": {
          "color": "#EF553B",
          "dash": "dot"
         },
         "mode": "lines",
         "name": "avg-std best",
         "orientation": "v",
         "showlegend": true,
         "type": "scatter",
         "x": [
          0,
          1,
          2,
          3,
          4,
          5,
          6,
          7,
          8,
          9,
          10,
          11,
          12,
          13,
          14,
          15,
          16,
          17,
          18,
          19,
          20,
          21,
          22,
          23,
          24,
          25,
          26,
          27,
          28,
          29,
          30,
          31,
          32,
          33,
          34,
          35,
          36,
          37,
          38,
          39,
          40,
          41,
          42,
          43,
          44,
          45,
          46,
          47,
          48,
          49,
          50,
          51,
          52,
          53,
          54,
          55,
          56,
          57,
          58,
          59,
          60,
          61,
          62,
          63,
          64,
          65,
          66,
          67,
          68,
          69,
          70,
          71,
          72,
          73,
          74,
          75,
          76,
          77,
          78,
          79,
          80,
          81,
          82,
          83,
          84,
          85,
          86,
          87,
          88,
          89,
          90,
          91,
          92,
          93,
          94,
          95,
          96,
          97,
          98,
          99,
          100
         ],
         "xaxis": "x",
         "y": [
          11589811.766321896,
          11241223.673479449,
          11185893.402513688,
          11104404.96131954,
          10927689.383536685,
          11131658.849285407,
          11052602.64011316,
          11208303.17879282,
          11152927.920938818,
          10836005.478347018,
          10885642.255203957,
          11002784.314509127,
          10815765.1305108,
          10906767.632956747,
          10939261.750480115,
          10885551.91265785,
          10944357.853599612,
          11001326.32001617,
          10979744.152168633,
          10860502.604740838,
          11158939.598731784,
          11194619.541802999,
          11035777.123318888,
          10941193.071736185,
          10878387.567390395,
          10694819.269373834,
          10585861.417687222,
          11138873.657863263,
          10885171.671711057,
          10983608.609062076,
          11022142.947832111,
          11333775.40260613,
          11003801.279232772,
          11100529.02427158,
          11117896.297885109,
          11130912.14672217,
          11174728.392332997,
          11072323.061720096,
          10972526.254349474,
          10934808.249373024,
          10961381.033920784,
          10866672.385116091,
          11119779.329024894,
          11241128.549857726,
          11202927.146775441,
          10808193.995010823,
          11124101.377789518,
          10979121.667903405,
          10935620.141221143,
          10786683.635791503,
          10887367.97313075,
          10666007.48449121,
          10640027.142175417,
          10569598.66692211,
          10297489.477442304,
          10261747.693166444,
          10532135.13231793,
          10452829.559779422,
          10760309.627654517,
          10626222.718768775,
          10595056.674099306,
          10531014.437790517,
          10914820.220257843,
          10739512.698162928,
          10816065.700710565,
          11158948.48405587,
          10982047.628107274,
          10913940.420474492,
          10788896.429357633,
          10762725.077855662,
          11030528.6303638,
          11018401.472968712,
          11024193.697170682,
          11030282.996527566,
          10905182.266163278,
          11096398.19350772,
          11013996.872305743,
          10992946.95025733,
          11035708.62121319,
          10733621.622857343,
          11140428.771763872,
          10942621.624407891,
          11021507.081066215,
          10931829.837991953,
          10946532.24031477,
          10829150.533892903,
          10734723.012769004,
          10938152.763282517,
          10816392.249483937,
          10588938.840229569,
          10469693.228398522,
          10322288.1761911,
          10656124.603680618,
          10791884.365004566,
          10792644.413775997,
          10808133.446409635,
          11017037.036586469,
          10988010.13479941,
          10903604.138725635,
          10838666.07358266,
          10608035.912592323
         ],
         "yaxis": "y"
        },
        {
         "line": {
          "color": "rgb(0,176,246)"
         },
         "name": "avg best",
         "type": "scatter",
         "x": [
          0,
          1,
          2,
          3,
          4,
          5,
          6,
          7,
          8,
          9,
          10,
          11,
          12,
          13,
          14,
          15,
          16,
          17,
          18,
          19,
          20,
          21,
          22,
          23,
          24,
          25,
          26,
          27,
          28,
          29,
          30,
          31,
          32,
          33,
          34,
          35,
          36,
          37,
          38,
          39,
          40,
          41,
          42,
          43,
          44,
          45,
          46,
          47,
          48,
          49,
          50,
          51,
          52,
          53,
          54,
          55,
          56,
          57,
          58,
          59,
          60,
          61,
          62,
          63,
          64,
          65,
          66,
          67,
          68,
          69,
          70,
          71,
          72,
          73,
          74,
          75,
          76,
          77,
          78,
          79,
          80,
          81,
          82,
          83,
          84,
          85,
          86,
          87,
          88,
          89,
          90,
          91,
          92,
          93,
          94,
          95,
          96,
          97,
          98,
          99,
          100
         ],
         "y": [
          12265591.5,
          11819824.6,
          11844726.3,
          11879703.266666668,
          11720343.233333332,
          11853435.633333333,
          11807777.9,
          11959359.633333333,
          11945730.633333333,
          11736994.133333333,
          11777497.4,
          11830566.933333334,
          11728637.033333333,
          11828954.833333334,
          11874653.7,
          11856775.233333332,
          11819162.266666668,
          11862862,
          11883143.033333333,
          11892875.033333333,
          12074412.133333333,
          12085035.133333333,
          11987714.266666668,
          11922052.533333333,
          11848067.633333333,
          11766722.866666667,
          11715871.766666668,
          11995748.166666666,
          11967435.466666667,
          12051246.066666666,
          12038457.7,
          12122812.6,
          12001944.166666666,
          12106215.766666668,
          12089220.133333333,
          11993503.033333333,
          12025780.966666667,
          12040400.5,
          12016392.166666666,
          12026598.033333333,
          12103614.166666666,
          12013051.3,
          12018736.8,
          12090768.066666666,
          12029503.033333333,
          11844603.233333332,
          11973313.9,
          12014974.833333334,
          12025645.733333332,
          11920131.166666666,
          12001962.366666667,
          11869023.433333334,
          11821025.6,
          11779933.233333332,
          11655489.033333333,
          11683886.466666667,
          11754592.866666667,
          11716647.5,
          11883014.133333333,
          11733527,
          11661738.8,
          11622984.433333334,
          11849399.666666666,
          11755746.033333333,
          11802654.066666666,
          11964729.066666666,
          11851700.966666667,
          11842497.966666667,
          11857774.033333333,
          11806362.8,
          11889632.033333333,
          11909495.566666666,
          11919220.233333332,
          11902384.466666667,
          11832607.533333333,
          12032215.566666666,
          11914012.4,
          11901127,
          11919594.733333332,
          11841869.4,
          11924802.4,
          11880922.3,
          11941814.433333334,
          11823508.233333332,
          11866104.466666667,
          11760736.633333333,
          11742536.666666666,
          11865994.066666666,
          11860010.433333334,
          11782315.033333333,
          11674296.5,
          11511589.2,
          11702337.866666667,
          11773984.366666667,
          11810720.866666667,
          11810749.466666667,
          11933961.766666668,
          11994908.033333333,
          11888079.7,
          11853135.366666667,
          11797108.433333334
         ]
        }
       ],
       "layout": {
        "legend": {
         "title": {
          "text": "variable"
         },
         "tracegroupgap": 0
        },
        "margin": {
         "t": 60
        },
        "template": {
         "data": {
          "bar": [
           {
            "error_x": {
             "color": "#2a3f5f"
            },
            "error_y": {
             "color": "#2a3f5f"
            },
            "marker": {
             "line": {
              "color": "#E5ECF6",
              "width": 0.5
             }
            },
            "type": "bar"
           }
          ],
          "barpolar": [
           {
            "marker": {
             "line": {
              "color": "#E5ECF6",
              "width": 0.5
             }
            },
            "type": "barpolar"
           }
          ],
          "carpet": [
           {
            "aaxis": {
             "endlinecolor": "#2a3f5f",
             "gridcolor": "white",
             "linecolor": "white",
             "minorgridcolor": "white",
             "startlinecolor": "#2a3f5f"
            },
            "baxis": {
             "endlinecolor": "#2a3f5f",
             "gridcolor": "white",
             "linecolor": "white",
             "minorgridcolor": "white",
             "startlinecolor": "#2a3f5f"
            },
            "type": "carpet"
           }
          ],
          "choropleth": [
           {
            "colorbar": {
             "outlinewidth": 0,
             "ticks": ""
            },
            "type": "choropleth"
           }
          ],
          "contour": [
           {
            "colorbar": {
             "outlinewidth": 0,
             "ticks": ""
            },
            "colorscale": [
             [
              0,
              "#0d0887"
             ],
             [
              0.1111111111111111,
              "#46039f"
             ],
             [
              0.2222222222222222,
              "#7201a8"
             ],
             [
              0.3333333333333333,
              "#9c179e"
             ],
             [
              0.4444444444444444,
              "#bd3786"
             ],
             [
              0.5555555555555556,
              "#d8576b"
             ],
             [
              0.6666666666666666,
              "#ed7953"
             ],
             [
              0.7777777777777778,
              "#fb9f3a"
             ],
             [
              0.8888888888888888,
              "#fdca26"
             ],
             [
              1,
              "#f0f921"
             ]
            ],
            "type": "contour"
           }
          ],
          "contourcarpet": [
           {
            "colorbar": {
             "outlinewidth": 0,
             "ticks": ""
            },
            "type": "contourcarpet"
           }
          ],
          "heatmap": [
           {
            "colorbar": {
             "outlinewidth": 0,
             "ticks": ""
            },
            "colorscale": [
             [
              0,
              "#0d0887"
             ],
             [
              0.1111111111111111,
              "#46039f"
             ],
             [
              0.2222222222222222,
              "#7201a8"
             ],
             [
              0.3333333333333333,
              "#9c179e"
             ],
             [
              0.4444444444444444,
              "#bd3786"
             ],
             [
              0.5555555555555556,
              "#d8576b"
             ],
             [
              0.6666666666666666,
              "#ed7953"
             ],
             [
              0.7777777777777778,
              "#fb9f3a"
             ],
             [
              0.8888888888888888,
              "#fdca26"
             ],
             [
              1,
              "#f0f921"
             ]
            ],
            "type": "heatmap"
           }
          ],
          "heatmapgl": [
           {
            "colorbar": {
             "outlinewidth": 0,
             "ticks": ""
            },
            "colorscale": [
             [
              0,
              "#0d0887"
             ],
             [
              0.1111111111111111,
              "#46039f"
             ],
             [
              0.2222222222222222,
              "#7201a8"
             ],
             [
              0.3333333333333333,
              "#9c179e"
             ],
             [
              0.4444444444444444,
              "#bd3786"
             ],
             [
              0.5555555555555556,
              "#d8576b"
             ],
             [
              0.6666666666666666,
              "#ed7953"
             ],
             [
              0.7777777777777778,
              "#fb9f3a"
             ],
             [
              0.8888888888888888,
              "#fdca26"
             ],
             [
              1,
              "#f0f921"
             ]
            ],
            "type": "heatmapgl"
           }
          ],
          "histogram": [
           {
            "marker": {
             "colorbar": {
              "outlinewidth": 0,
              "ticks": ""
             }
            },
            "type": "histogram"
           }
          ],
          "histogram2d": [
           {
            "colorbar": {
             "outlinewidth": 0,
             "ticks": ""
            },
            "colorscale": [
             [
              0,
              "#0d0887"
             ],
             [
              0.1111111111111111,
              "#46039f"
             ],
             [
              0.2222222222222222,
              "#7201a8"
             ],
             [
              0.3333333333333333,
              "#9c179e"
             ],
             [
              0.4444444444444444,
              "#bd3786"
             ],
             [
              0.5555555555555556,
              "#d8576b"
             ],
             [
              0.6666666666666666,
              "#ed7953"
             ],
             [
              0.7777777777777778,
              "#fb9f3a"
             ],
             [
              0.8888888888888888,
              "#fdca26"
             ],
             [
              1,
              "#f0f921"
             ]
            ],
            "type": "histogram2d"
           }
          ],
          "histogram2dcontour": [
           {
            "colorbar": {
             "outlinewidth": 0,
             "ticks": ""
            },
            "colorscale": [
             [
              0,
              "#0d0887"
             ],
             [
              0.1111111111111111,
              "#46039f"
             ],
             [
              0.2222222222222222,
              "#7201a8"
             ],
             [
              0.3333333333333333,
              "#9c179e"
             ],
             [
              0.4444444444444444,
              "#bd3786"
             ],
             [
              0.5555555555555556,
              "#d8576b"
             ],
             [
              0.6666666666666666,
              "#ed7953"
             ],
             [
              0.7777777777777778,
              "#fb9f3a"
             ],
             [
              0.8888888888888888,
              "#fdca26"
             ],
             [
              1,
              "#f0f921"
             ]
            ],
            "type": "histogram2dcontour"
           }
          ],
          "mesh3d": [
           {
            "colorbar": {
             "outlinewidth": 0,
             "ticks": ""
            },
            "type": "mesh3d"
           }
          ],
          "parcoords": [
           {
            "line": {
             "colorbar": {
              "outlinewidth": 0,
              "ticks": ""
             }
            },
            "type": "parcoords"
           }
          ],
          "pie": [
           {
            "automargin": true,
            "type": "pie"
           }
          ],
          "scatter": [
           {
            "marker": {
             "colorbar": {
              "outlinewidth": 0,
              "ticks": ""
             }
            },
            "type": "scatter"
           }
          ],
          "scatter3d": [
           {
            "line": {
             "colorbar": {
              "outlinewidth": 0,
              "ticks": ""
             }
            },
            "marker": {
             "colorbar": {
              "outlinewidth": 0,
              "ticks": ""
             }
            },
            "type": "scatter3d"
           }
          ],
          "scattercarpet": [
           {
            "marker": {
             "colorbar": {
              "outlinewidth": 0,
              "ticks": ""
             }
            },
            "type": "scattercarpet"
           }
          ],
          "scattergeo": [
           {
            "marker": {
             "colorbar": {
              "outlinewidth": 0,
              "ticks": ""
             }
            },
            "type": "scattergeo"
           }
          ],
          "scattergl": [
           {
            "marker": {
             "colorbar": {
              "outlinewidth": 0,
              "ticks": ""
             }
            },
            "type": "scattergl"
           }
          ],
          "scattermapbox": [
           {
            "marker": {
             "colorbar": {
              "outlinewidth": 0,
              "ticks": ""
             }
            },
            "type": "scattermapbox"
           }
          ],
          "scatterpolar": [
           {
            "marker": {
             "colorbar": {
              "outlinewidth": 0,
              "ticks": ""
             }
            },
            "type": "scatterpolar"
           }
          ],
          "scatterpolargl": [
           {
            "marker": {
             "colorbar": {
              "outlinewidth": 0,
              "ticks": ""
             }
            },
            "type": "scatterpolargl"
           }
          ],
          "scatterternary": [
           {
            "marker": {
             "colorbar": {
              "outlinewidth": 0,
              "ticks": ""
             }
            },
            "type": "scatterternary"
           }
          ],
          "surface": [
           {
            "colorbar": {
             "outlinewidth": 0,
             "ticks": ""
            },
            "colorscale": [
             [
              0,
              "#0d0887"
             ],
             [
              0.1111111111111111,
              "#46039f"
             ],
             [
              0.2222222222222222,
              "#7201a8"
             ],
             [
              0.3333333333333333,
              "#9c179e"
             ],
             [
              0.4444444444444444,
              "#bd3786"
             ],
             [
              0.5555555555555556,
              "#d8576b"
             ],
             [
              0.6666666666666666,
              "#ed7953"
             ],
             [
              0.7777777777777778,
              "#fb9f3a"
             ],
             [
              0.8888888888888888,
              "#fdca26"
             ],
             [
              1,
              "#f0f921"
             ]
            ],
            "type": "surface"
           }
          ],
          "table": [
           {
            "cells": {
             "fill": {
              "color": "#EBF0F8"
             },
             "line": {
              "color": "white"
             }
            },
            "header": {
             "fill": {
              "color": "#C8D4E3"
             },
             "line": {
              "color": "white"
             }
            },
            "type": "table"
           }
          ]
         },
         "layout": {
          "annotationdefaults": {
           "arrowcolor": "#2a3f5f",
           "arrowhead": 0,
           "arrowwidth": 1
          },
          "coloraxis": {
           "colorbar": {
            "outlinewidth": 0,
            "ticks": ""
           }
          },
          "colorscale": {
           "diverging": [
            [
             0,
             "#8e0152"
            ],
            [
             0.1,
             "#c51b7d"
            ],
            [
             0.2,
             "#de77ae"
            ],
            [
             0.3,
             "#f1b6da"
            ],
            [
             0.4,
             "#fde0ef"
            ],
            [
             0.5,
             "#f7f7f7"
            ],
            [
             0.6,
             "#e6f5d0"
            ],
            [
             0.7,
             "#b8e186"
            ],
            [
             0.8,
             "#7fbc41"
            ],
            [
             0.9,
             "#4d9221"
            ],
            [
             1,
             "#276419"
            ]
           ],
           "sequential": [
            [
             0,
             "#0d0887"
            ],
            [
             0.1111111111111111,
             "#46039f"
            ],
            [
             0.2222222222222222,
             "#7201a8"
            ],
            [
             0.3333333333333333,
             "#9c179e"
            ],
            [
             0.4444444444444444,
             "#bd3786"
            ],
            [
             0.5555555555555556,
             "#d8576b"
            ],
            [
             0.6666666666666666,
             "#ed7953"
            ],
            [
             0.7777777777777778,
             "#fb9f3a"
            ],
            [
             0.8888888888888888,
             "#fdca26"
            ],
            [
             1,
             "#f0f921"
            ]
           ],
           "sequentialminus": [
            [
             0,
             "#0d0887"
            ],
            [
             0.1111111111111111,
             "#46039f"
            ],
            [
             0.2222222222222222,
             "#7201a8"
            ],
            [
             0.3333333333333333,
             "#9c179e"
            ],
            [
             0.4444444444444444,
             "#bd3786"
            ],
            [
             0.5555555555555556,
             "#d8576b"
            ],
            [
             0.6666666666666666,
             "#ed7953"
            ],
            [
             0.7777777777777778,
             "#fb9f3a"
            ],
            [
             0.8888888888888888,
             "#fdca26"
            ],
            [
             1,
             "#f0f921"
            ]
           ]
          },
          "colorway": [
           "#636efa",
           "#EF553B",
           "#00cc96",
           "#ab63fa",
           "#FFA15A",
           "#19d3f3",
           "#FF6692",
           "#B6E880",
           "#FF97FF",
           "#FECB52"
          ],
          "font": {
           "color": "#2a3f5f"
          },
          "geo": {
           "bgcolor": "white",
           "lakecolor": "white",
           "landcolor": "#E5ECF6",
           "showlakes": true,
           "showland": true,
           "subunitcolor": "white"
          },
          "hoverlabel": {
           "align": "left"
          },
          "hovermode": "closest",
          "mapbox": {
           "style": "light"
          },
          "paper_bgcolor": "white",
          "plot_bgcolor": "#E5ECF6",
          "polar": {
           "angularaxis": {
            "gridcolor": "white",
            "linecolor": "white",
            "ticks": ""
           },
           "bgcolor": "#E5ECF6",
           "radialaxis": {
            "gridcolor": "white",
            "linecolor": "white",
            "ticks": ""
           }
          },
          "scene": {
           "xaxis": {
            "backgroundcolor": "#E5ECF6",
            "gridcolor": "white",
            "gridwidth": 2,
            "linecolor": "white",
            "showbackground": true,
            "ticks": "",
            "zerolinecolor": "white"
           },
           "yaxis": {
            "backgroundcolor": "#E5ECF6",
            "gridcolor": "white",
            "gridwidth": 2,
            "linecolor": "white",
            "showbackground": true,
            "ticks": "",
            "zerolinecolor": "white"
           },
           "zaxis": {
            "backgroundcolor": "#E5ECF6",
            "gridcolor": "white",
            "gridwidth": 2,
            "linecolor": "white",
            "showbackground": true,
            "ticks": "",
            "zerolinecolor": "white"
           }
          },
          "shapedefaults": {
           "line": {
            "color": "#2a3f5f"
           }
          },
          "ternary": {
           "aaxis": {
            "gridcolor": "white",
            "linecolor": "white",
            "ticks": ""
           },
           "baxis": {
            "gridcolor": "white",
            "linecolor": "white",
            "ticks": ""
           },
           "bgcolor": "#E5ECF6",
           "caxis": {
            "gridcolor": "white",
            "linecolor": "white",
            "ticks": ""
           }
          },
          "title": {
           "x": 0.05
          },
          "xaxis": {
           "automargin": true,
           "gridcolor": "white",
           "linecolor": "white",
           "ticks": "",
           "title": {
            "standoff": 15
           },
           "zerolinecolor": "white",
           "zerolinewidth": 2
          },
          "yaxis": {
           "automargin": true,
           "gridcolor": "white",
           "linecolor": "white",
           "ticks": "",
           "title": {
            "standoff": 15
           },
           "zerolinecolor": "white",
           "zerolinewidth": 2
          }
         }
        },
        "xaxis": {
         "anchor": "y",
         "domain": [
          0,
          1
         ],
         "title": {
          "text": "index"
         }
        },
        "yaxis": {
         "anchor": "x",
         "domain": [
          0,
          1
         ],
         "title": {
          "text": "value"
         }
        }
       }
      }
     },
     "metadata": {},
     "output_type": "display_data"
    }
   ],
   "source": [
    "logs2 = experiment(eaMuPlusLambda, n_experiments)\n",
    "print_hof(hof2)\n",
    "plot_bests(logs2)"
   ]
  },
  {
   "cell_type": "code",
   "execution_count": 11,
   "metadata": {},
   "outputs": [],
   "source": [
    "logs3 = experiment(eaMuCommaLambda, n_experiments)\n"
   ]
  },
  {
   "cell_type": "code",
   "execution_count": 12,
   "metadata": {},
   "outputs": [
    {
     "name": "stdout",
     "output_type": "stream",
     "text": [
      "profit: 13347482\n",
      "profit: 13320152\n",
      "profit: 13301226\n"
     ]
    },
    {
     "data": {
      "application/vnd.plotly.v1+json": {
       "config": {
        "plotlyServerURL": "https://plot.ly"
       },
       "data": [
        {
         "hovertemplate": "variable=avg+std best<br>index=%{x}<br>value=%{y}<extra></extra>",
         "legendgroup": "avg+std best",
         "line": {
          "color": "#636efa",
          "dash": "dot"
         },
         "mode": "lines",
         "name": "avg+std best",
         "orientation": "v",
         "showlegend": true,
         "type": "scatter",
         "x": [
          0,
          1,
          2,
          3,
          4,
          5,
          6,
          7,
          8,
          9,
          10,
          11,
          12,
          13,
          14,
          15,
          16,
          17,
          18,
          19,
          20,
          21,
          22,
          23,
          24,
          25,
          26,
          27,
          28,
          29,
          30,
          31,
          32,
          33,
          34,
          35,
          36,
          37,
          38,
          39,
          40,
          41,
          42,
          43,
          44,
          45,
          46,
          47,
          48,
          49,
          50,
          51,
          52,
          53,
          54,
          55,
          56,
          57,
          58,
          59,
          60,
          61,
          62,
          63,
          64,
          65,
          66,
          67,
          68,
          69,
          70,
          71,
          72,
          73,
          74,
          75,
          76,
          77,
          78,
          79,
          80,
          81,
          82,
          83,
          84,
          85,
          86,
          87,
          88,
          89,
          90,
          91,
          92,
          93,
          94,
          95,
          96,
          97,
          98,
          99,
          100
         ],
         "xaxis": "x",
         "y": [
          14212271.581590753,
          12996832.894175548,
          12848667.605291182,
          12783835.444532692,
          12830330.881337585,
          12845142.29934773,
          12932195.740951216,
          12871444.399451075,
          12808088.480640363,
          12685965.126911912,
          12716977.019567579,
          12691218.309382746,
          12784193.83813358,
          12696949.51283518,
          12824075.675498856,
          12871122.698326709,
          12767636.792161215,
          12778445.069486901,
          12749999.442170719,
          12876762.423457287,
          12945103.567698816,
          12948321.055400966,
          13033822.499941392,
          12692262.414209705,
          12687531.348336635,
          12636999.394938327,
          12611109.874200463,
          12731484.812169375,
          12880974.365237128,
          12573682.341991592,
          12638016.138450023,
          12632311.475614764,
          12616597.045470368,
          12743671.196946166,
          12716894.155826483,
          12806323.412827902,
          12593656.84746757,
          12661862.522354752,
          12705789.695736572,
          12665406.001742471,
          12629437.795296863,
          12644574.911161564,
          12645363.178614296,
          12667788.23780403,
          12702153.825905886,
          12716864.775124175,
          12749310.318355976,
          12835152.62454484,
          12858122.464758683,
          12918810.934245037,
          13077778.19039292,
          12964651.43077146,
          12965185.774430603,
          13000586.25199285,
          12990284.416606111,
          13091437.553036943,
          12913500.4403543,
          12885047.424546309,
          12866534.186562216,
          12811616.169640545,
          12915071.451456198,
          13049023.492405117,
          12729657.407374147,
          12958451.778346265,
          12476837.220141228,
          12698434.372605026,
          12523991.947394291,
          12697526.122255716,
          12876478.982540363,
          12829870.427693518,
          12779781.596456522,
          12683134.242234336,
          12738901.04164229,
          12707657.884720072,
          12677833.006371869,
          12665214.376484226,
          12608334.538402835,
          12708300.313459525,
          12700670.057377461,
          12525902.324269317,
          12552221.024883293,
          12903525.026789855,
          12757565.62054616,
          12694110.16955336,
          12767951.725842675,
          12696336.023415085,
          12769817.924839396,
          12703545.371685036,
          12763715.213498985,
          12733616.01192091,
          12801339.600444708,
          12814660.639952471,
          12930977.940367557,
          12783224.322529744,
          12848284.767302383,
          12735319.889104366,
          12763585.698655715,
          12906473.121555999,
          12880319.466322033,
          12664628.229160687,
          12562972.342062693
         ],
         "yaxis": "y"
        },
        {
         "hovertemplate": "variable=avg-std best<br>index=%{x}<br>value=%{y}<extra></extra>",
         "legendgroup": "avg-std best",
         "line": {
          "color": "#EF553B",
          "dash": "dot"
         },
         "mode": "lines",
         "name": "avg-std best",
         "orientation": "v",
         "showlegend": true,
         "type": "scatter",
         "x": [
          0,
          1,
          2,
          3,
          4,
          5,
          6,
          7,
          8,
          9,
          10,
          11,
          12,
          13,
          14,
          15,
          16,
          17,
          18,
          19,
          20,
          21,
          22,
          23,
          24,
          25,
          26,
          27,
          28,
          29,
          30,
          31,
          32,
          33,
          34,
          35,
          36,
          37,
          38,
          39,
          40,
          41,
          42,
          43,
          44,
          45,
          46,
          47,
          48,
          49,
          50,
          51,
          52,
          53,
          54,
          55,
          56,
          57,
          58,
          59,
          60,
          61,
          62,
          63,
          64,
          65,
          66,
          67,
          68,
          69,
          70,
          71,
          72,
          73,
          74,
          75,
          76,
          77,
          78,
          79,
          80,
          81,
          82,
          83,
          84,
          85,
          86,
          87,
          88,
          89,
          90,
          91,
          92,
          93,
          94,
          95,
          96,
          97,
          98,
          99,
          100
         ],
         "xaxis": "x",
         "y": [
          9568473.418409247,
          11619642.905824453,
          11305994.661375483,
          11353237.488800641,
          10718376.38532908,
          11090561.167318935,
          11224162.72571545,
          11259527.533882258,
          11148311.252692971,
          11147122.606421422,
          11239753.047099087,
          11092964.290617255,
          10882417.495199753,
          10342233.020498155,
          10754890.524501143,
          10868479.568339957,
          10609589.607838783,
          10647789.397179764,
          10769706.557829281,
          10682543.709876046,
          10814763.298967851,
          10484399.277932366,
          10716902.033391943,
          10445550.452456962,
          10566947.651663365,
          10591535.805061672,
          11054615.125799537,
          11120046.387830624,
          10510296.30142954,
          10754452.124675073,
          10465339.394883312,
          10980588.591051903,
          10952514.35452963,
          10874575.803053834,
          10786457.97750685,
          10981126.853838764,
          10825211.552532429,
          10763350.677645247,
          11030741.104263429,
          11359725.331590861,
          11378387.13803647,
          11342941.62217177,
          11127514.554719038,
          11175873.695529304,
          11138415.974094115,
          11263805.824875826,
          11607584.614977358,
          11499837.908788495,
          11572392.86857465,
          11158408.999088297,
          11313710.342940414,
          11393449.502561873,
          11508238.425569396,
          11221174.014673816,
          10861025.450060556,
          10799773.846963055,
          11173131.3596457,
          11255835.77545369,
          11282622.413437786,
          10473282.630359456,
          10402427.615210468,
          10497112.307594884,
          10779221.792625852,
          10888619.421653735,
          10893256.646525439,
          11009359.360728309,
          10775969.919272376,
          10876573.14441095,
          10860554.95079297,
          10992356.705639815,
          11010563.73687681,
          11061785.091098996,
          11172445.491691045,
          10996672.44861326,
          10992608.260294797,
          10910171.223515775,
          10851970.72826383,
          10764808.086540474,
          10834068.54262254,
          10490402.209064018,
          10527875.375116706,
          10795740.906543478,
          10964806.846120505,
          10933510.097113306,
          11099262.407490658,
          11004333.643251583,
          11014450.408493936,
          11168762.761648297,
          11135928.586501015,
          11268665.188079089,
          11129345.732888624,
          11152417.16004753,
          10910762.792965777,
          11021800.544136923,
          10886045.299364284,
          10649487.044228967,
          10660218.168010952,
          11140459.811777335,
          10975437.8670113,
          10560649.63750598,
          10457193.59127064
         ],
         "yaxis": "y"
        },
        {
         "line": {
          "color": "rgb(0,176,246)"
         },
         "name": "avg best",
         "type": "scatter",
         "x": [
          0,
          1,
          2,
          3,
          4,
          5,
          6,
          7,
          8,
          9,
          10,
          11,
          12,
          13,
          14,
          15,
          16,
          17,
          18,
          19,
          20,
          21,
          22,
          23,
          24,
          25,
          26,
          27,
          28,
          29,
          30,
          31,
          32,
          33,
          34,
          35,
          36,
          37,
          38,
          39,
          40,
          41,
          42,
          43,
          44,
          45,
          46,
          47,
          48,
          49,
          50,
          51,
          52,
          53,
          54,
          55,
          56,
          57,
          58,
          59,
          60,
          61,
          62,
          63,
          64,
          65,
          66,
          67,
          68,
          69,
          70,
          71,
          72,
          73,
          74,
          75,
          76,
          77,
          78,
          79,
          80,
          81,
          82,
          83,
          84,
          85,
          86,
          87,
          88,
          89,
          90,
          91,
          92,
          93,
          94,
          95,
          96,
          97,
          98,
          99,
          100
         ],
         "y": [
          11890372.5,
          12308237.9,
          12077331.133333333,
          12068536.466666667,
          11774353.633333333,
          11967851.733333332,
          12078179.233333332,
          12065485.966666667,
          11978199.866666667,
          11916543.866666667,
          11978365.033333333,
          11892091.3,
          11833305.666666666,
          11519591.266666668,
          11789483.1,
          11869801.133333333,
          11688613.2,
          11713117.233333332,
          11759853,
          11779653.066666666,
          11879933.433333334,
          11716360.166666666,
          11875362.266666668,
          11568906.433333334,
          11627239.5,
          11614267.6,
          11832862.5,
          11925765.6,
          11695635.333333334,
          11664067.233333332,
          11551677.766666668,
          11806450.033333333,
          11784555.7,
          11809123.5,
          11751676.066666666,
          11893725.133333333,
          11709434.2,
          11712606.6,
          11868265.4,
          12012565.666666666,
          12003912.466666667,
          11993758.266666668,
          11886438.866666667,
          11921830.966666667,
          11920284.9,
          11990335.3,
          12178447.466666667,
          12167495.266666668,
          12215257.666666666,
          12038609.966666667,
          12195744.266666668,
          12179050.466666667,
          12236712.1,
          12110880.133333333,
          11925654.933333334,
          11945605.7,
          12043315.9,
          12070441.6,
          12074578.3,
          11642449.4,
          11658749.533333333,
          11773067.9,
          11754439.6,
          11923535.6,
          11685046.933333334,
          11853896.866666667,
          11649980.933333334,
          11787049.633333333,
          11868516.966666667,
          11911113.566666666,
          11895172.666666666,
          11872459.666666666,
          11955673.266666668,
          11852165.166666666,
          11835220.633333333,
          11787692.8,
          11730152.633333333,
          11736554.2,
          11767369.3,
          11508152.266666668,
          11540048.2,
          11849632.966666667,
          11861186.233333332,
          11813810.133333333,
          11933607.066666666,
          11850334.833333334,
          11892134.166666666,
          11936154.066666666,
          11949821.9,
          12001140.6,
          11965342.666666666,
          11983538.9,
          11920870.366666667,
          11902512.433333334,
          11867165.033333333,
          11692403.466666667,
          11711901.933333334,
          12023466.466666667,
          11927878.666666666,
          11612638.933333334,
          11510082.966666667
         ]
        }
       ],
       "layout": {
        "legend": {
         "title": {
          "text": "variable"
         },
         "tracegroupgap": 0
        },
        "margin": {
         "t": 60
        },
        "template": {
         "data": {
          "bar": [
           {
            "error_x": {
             "color": "#2a3f5f"
            },
            "error_y": {
             "color": "#2a3f5f"
            },
            "marker": {
             "line": {
              "color": "#E5ECF6",
              "width": 0.5
             }
            },
            "type": "bar"
           }
          ],
          "barpolar": [
           {
            "marker": {
             "line": {
              "color": "#E5ECF6",
              "width": 0.5
             }
            },
            "type": "barpolar"
           }
          ],
          "carpet": [
           {
            "aaxis": {
             "endlinecolor": "#2a3f5f",
             "gridcolor": "white",
             "linecolor": "white",
             "minorgridcolor": "white",
             "startlinecolor": "#2a3f5f"
            },
            "baxis": {
             "endlinecolor": "#2a3f5f",
             "gridcolor": "white",
             "linecolor": "white",
             "minorgridcolor": "white",
             "startlinecolor": "#2a3f5f"
            },
            "type": "carpet"
           }
          ],
          "choropleth": [
           {
            "colorbar": {
             "outlinewidth": 0,
             "ticks": ""
            },
            "type": "choropleth"
           }
          ],
          "contour": [
           {
            "colorbar": {
             "outlinewidth": 0,
             "ticks": ""
            },
            "colorscale": [
             [
              0,
              "#0d0887"
             ],
             [
              0.1111111111111111,
              "#46039f"
             ],
             [
              0.2222222222222222,
              "#7201a8"
             ],
             [
              0.3333333333333333,
              "#9c179e"
             ],
             [
              0.4444444444444444,
              "#bd3786"
             ],
             [
              0.5555555555555556,
              "#d8576b"
             ],
             [
              0.6666666666666666,
              "#ed7953"
             ],
             [
              0.7777777777777778,
              "#fb9f3a"
             ],
             [
              0.8888888888888888,
              "#fdca26"
             ],
             [
              1,
              "#f0f921"
             ]
            ],
            "type": "contour"
           }
          ],
          "contourcarpet": [
           {
            "colorbar": {
             "outlinewidth": 0,
             "ticks": ""
            },
            "type": "contourcarpet"
           }
          ],
          "heatmap": [
           {
            "colorbar": {
             "outlinewidth": 0,
             "ticks": ""
            },
            "colorscale": [
             [
              0,
              "#0d0887"
             ],
             [
              0.1111111111111111,
              "#46039f"
             ],
             [
              0.2222222222222222,
              "#7201a8"
             ],
             [
              0.3333333333333333,
              "#9c179e"
             ],
             [
              0.4444444444444444,
              "#bd3786"
             ],
             [
              0.5555555555555556,
              "#d8576b"
             ],
             [
              0.6666666666666666,
              "#ed7953"
             ],
             [
              0.7777777777777778,
              "#fb9f3a"
             ],
             [
              0.8888888888888888,
              "#fdca26"
             ],
             [
              1,
              "#f0f921"
             ]
            ],
            "type": "heatmap"
           }
          ],
          "heatmapgl": [
           {
            "colorbar": {
             "outlinewidth": 0,
             "ticks": ""
            },
            "colorscale": [
             [
              0,
              "#0d0887"
             ],
             [
              0.1111111111111111,
              "#46039f"
             ],
             [
              0.2222222222222222,
              "#7201a8"
             ],
             [
              0.3333333333333333,
              "#9c179e"
             ],
             [
              0.4444444444444444,
              "#bd3786"
             ],
             [
              0.5555555555555556,
              "#d8576b"
             ],
             [
              0.6666666666666666,
              "#ed7953"
             ],
             [
              0.7777777777777778,
              "#fb9f3a"
             ],
             [
              0.8888888888888888,
              "#fdca26"
             ],
             [
              1,
              "#f0f921"
             ]
            ],
            "type": "heatmapgl"
           }
          ],
          "histogram": [
           {
            "marker": {
             "colorbar": {
              "outlinewidth": 0,
              "ticks": ""
             }
            },
            "type": "histogram"
           }
          ],
          "histogram2d": [
           {
            "colorbar": {
             "outlinewidth": 0,
             "ticks": ""
            },
            "colorscale": [
             [
              0,
              "#0d0887"
             ],
             [
              0.1111111111111111,
              "#46039f"
             ],
             [
              0.2222222222222222,
              "#7201a8"
             ],
             [
              0.3333333333333333,
              "#9c179e"
             ],
             [
              0.4444444444444444,
              "#bd3786"
             ],
             [
              0.5555555555555556,
              "#d8576b"
             ],
             [
              0.6666666666666666,
              "#ed7953"
             ],
             [
              0.7777777777777778,
              "#fb9f3a"
             ],
             [
              0.8888888888888888,
              "#fdca26"
             ],
             [
              1,
              "#f0f921"
             ]
            ],
            "type": "histogram2d"
           }
          ],
          "histogram2dcontour": [
           {
            "colorbar": {
             "outlinewidth": 0,
             "ticks": ""
            },
            "colorscale": [
             [
              0,
              "#0d0887"
             ],
             [
              0.1111111111111111,
              "#46039f"
             ],
             [
              0.2222222222222222,
              "#7201a8"
             ],
             [
              0.3333333333333333,
              "#9c179e"
             ],
             [
              0.4444444444444444,
              "#bd3786"
             ],
             [
              0.5555555555555556,
              "#d8576b"
             ],
             [
              0.6666666666666666,
              "#ed7953"
             ],
             [
              0.7777777777777778,
              "#fb9f3a"
             ],
             [
              0.8888888888888888,
              "#fdca26"
             ],
             [
              1,
              "#f0f921"
             ]
            ],
            "type": "histogram2dcontour"
           }
          ],
          "mesh3d": [
           {
            "colorbar": {
             "outlinewidth": 0,
             "ticks": ""
            },
            "type": "mesh3d"
           }
          ],
          "parcoords": [
           {
            "line": {
             "colorbar": {
              "outlinewidth": 0,
              "ticks": ""
             }
            },
            "type": "parcoords"
           }
          ],
          "pie": [
           {
            "automargin": true,
            "type": "pie"
           }
          ],
          "scatter": [
           {
            "marker": {
             "colorbar": {
              "outlinewidth": 0,
              "ticks": ""
             }
            },
            "type": "scatter"
           }
          ],
          "scatter3d": [
           {
            "line": {
             "colorbar": {
              "outlinewidth": 0,
              "ticks": ""
             }
            },
            "marker": {
             "colorbar": {
              "outlinewidth": 0,
              "ticks": ""
             }
            },
            "type": "scatter3d"
           }
          ],
          "scattercarpet": [
           {
            "marker": {
             "colorbar": {
              "outlinewidth": 0,
              "ticks": ""
             }
            },
            "type": "scattercarpet"
           }
          ],
          "scattergeo": [
           {
            "marker": {
             "colorbar": {
              "outlinewidth": 0,
              "ticks": ""
             }
            },
            "type": "scattergeo"
           }
          ],
          "scattergl": [
           {
            "marker": {
             "colorbar": {
              "outlinewidth": 0,
              "ticks": ""
             }
            },
            "type": "scattergl"
           }
          ],
          "scattermapbox": [
           {
            "marker": {
             "colorbar": {
              "outlinewidth": 0,
              "ticks": ""
             }
            },
            "type": "scattermapbox"
           }
          ],
          "scatterpolar": [
           {
            "marker": {
             "colorbar": {
              "outlinewidth": 0,
              "ticks": ""
             }
            },
            "type": "scatterpolar"
           }
          ],
          "scatterpolargl": [
           {
            "marker": {
             "colorbar": {
              "outlinewidth": 0,
              "ticks": ""
             }
            },
            "type": "scatterpolargl"
           }
          ],
          "scatterternary": [
           {
            "marker": {
             "colorbar": {
              "outlinewidth": 0,
              "ticks": ""
             }
            },
            "type": "scatterternary"
           }
          ],
          "surface": [
           {
            "colorbar": {
             "outlinewidth": 0,
             "ticks": ""
            },
            "colorscale": [
             [
              0,
              "#0d0887"
             ],
             [
              0.1111111111111111,
              "#46039f"
             ],
             [
              0.2222222222222222,
              "#7201a8"
             ],
             [
              0.3333333333333333,
              "#9c179e"
             ],
             [
              0.4444444444444444,
              "#bd3786"
             ],
             [
              0.5555555555555556,
              "#d8576b"
             ],
             [
              0.6666666666666666,
              "#ed7953"
             ],
             [
              0.7777777777777778,
              "#fb9f3a"
             ],
             [
              0.8888888888888888,
              "#fdca26"
             ],
             [
              1,
              "#f0f921"
             ]
            ],
            "type": "surface"
           }
          ],
          "table": [
           {
            "cells": {
             "fill": {
              "color": "#EBF0F8"
             },
             "line": {
              "color": "white"
             }
            },
            "header": {
             "fill": {
              "color": "#C8D4E3"
             },
             "line": {
              "color": "white"
             }
            },
            "type": "table"
           }
          ]
         },
         "layout": {
          "annotationdefaults": {
           "arrowcolor": "#2a3f5f",
           "arrowhead": 0,
           "arrowwidth": 1
          },
          "coloraxis": {
           "colorbar": {
            "outlinewidth": 0,
            "ticks": ""
           }
          },
          "colorscale": {
           "diverging": [
            [
             0,
             "#8e0152"
            ],
            [
             0.1,
             "#c51b7d"
            ],
            [
             0.2,
             "#de77ae"
            ],
            [
             0.3,
             "#f1b6da"
            ],
            [
             0.4,
             "#fde0ef"
            ],
            [
             0.5,
             "#f7f7f7"
            ],
            [
             0.6,
             "#e6f5d0"
            ],
            [
             0.7,
             "#b8e186"
            ],
            [
             0.8,
             "#7fbc41"
            ],
            [
             0.9,
             "#4d9221"
            ],
            [
             1,
             "#276419"
            ]
           ],
           "sequential": [
            [
             0,
             "#0d0887"
            ],
            [
             0.1111111111111111,
             "#46039f"
            ],
            [
             0.2222222222222222,
             "#7201a8"
            ],
            [
             0.3333333333333333,
             "#9c179e"
            ],
            [
             0.4444444444444444,
             "#bd3786"
            ],
            [
             0.5555555555555556,
             "#d8576b"
            ],
            [
             0.6666666666666666,
             "#ed7953"
            ],
            [
             0.7777777777777778,
             "#fb9f3a"
            ],
            [
             0.8888888888888888,
             "#fdca26"
            ],
            [
             1,
             "#f0f921"
            ]
           ],
           "sequentialminus": [
            [
             0,
             "#0d0887"
            ],
            [
             0.1111111111111111,
             "#46039f"
            ],
            [
             0.2222222222222222,
             "#7201a8"
            ],
            [
             0.3333333333333333,
             "#9c179e"
            ],
            [
             0.4444444444444444,
             "#bd3786"
            ],
            [
             0.5555555555555556,
             "#d8576b"
            ],
            [
             0.6666666666666666,
             "#ed7953"
            ],
            [
             0.7777777777777778,
             "#fb9f3a"
            ],
            [
             0.8888888888888888,
             "#fdca26"
            ],
            [
             1,
             "#f0f921"
            ]
           ]
          },
          "colorway": [
           "#636efa",
           "#EF553B",
           "#00cc96",
           "#ab63fa",
           "#FFA15A",
           "#19d3f3",
           "#FF6692",
           "#B6E880",
           "#FF97FF",
           "#FECB52"
          ],
          "font": {
           "color": "#2a3f5f"
          },
          "geo": {
           "bgcolor": "white",
           "lakecolor": "white",
           "landcolor": "#E5ECF6",
           "showlakes": true,
           "showland": true,
           "subunitcolor": "white"
          },
          "hoverlabel": {
           "align": "left"
          },
          "hovermode": "closest",
          "mapbox": {
           "style": "light"
          },
          "paper_bgcolor": "white",
          "plot_bgcolor": "#E5ECF6",
          "polar": {
           "angularaxis": {
            "gridcolor": "white",
            "linecolor": "white",
            "ticks": ""
           },
           "bgcolor": "#E5ECF6",
           "radialaxis": {
            "gridcolor": "white",
            "linecolor": "white",
            "ticks": ""
           }
          },
          "scene": {
           "xaxis": {
            "backgroundcolor": "#E5ECF6",
            "gridcolor": "white",
            "gridwidth": 2,
            "linecolor": "white",
            "showbackground": true,
            "ticks": "",
            "zerolinecolor": "white"
           },
           "yaxis": {
            "backgroundcolor": "#E5ECF6",
            "gridcolor": "white",
            "gridwidth": 2,
            "linecolor": "white",
            "showbackground": true,
            "ticks": "",
            "zerolinecolor": "white"
           },
           "zaxis": {
            "backgroundcolor": "#E5ECF6",
            "gridcolor": "white",
            "gridwidth": 2,
            "linecolor": "white",
            "showbackground": true,
            "ticks": "",
            "zerolinecolor": "white"
           }
          },
          "shapedefaults": {
           "line": {
            "color": "#2a3f5f"
           }
          },
          "ternary": {
           "aaxis": {
            "gridcolor": "white",
            "linecolor": "white",
            "ticks": ""
           },
           "baxis": {
            "gridcolor": "white",
            "linecolor": "white",
            "ticks": ""
           },
           "bgcolor": "#E5ECF6",
           "caxis": {
            "gridcolor": "white",
            "linecolor": "white",
            "ticks": ""
           }
          },
          "title": {
           "x": 0.05
          },
          "xaxis": {
           "automargin": true,
           "gridcolor": "white",
           "linecolor": "white",
           "ticks": "",
           "title": {
            "standoff": 15
           },
           "zerolinecolor": "white",
           "zerolinewidth": 2
          },
          "yaxis": {
           "automargin": true,
           "gridcolor": "white",
           "linecolor": "white",
           "ticks": "",
           "title": {
            "standoff": 15
           },
           "zerolinecolor": "white",
           "zerolinewidth": 2
          }
         }
        },
        "xaxis": {
         "anchor": "y",
         "domain": [
          0,
          1
         ],
         "title": {
          "text": "index"
         }
        },
        "yaxis": {
         "anchor": "x",
         "domain": [
          0,
          1
         ],
         "title": {
          "text": "value"
         }
        }
       }
      }
     },
     "metadata": {},
     "output_type": "display_data"
    }
   ],
   "source": [
    "print_hof(hof3)\n",
    "plot_bests(logs3)"
   ]
  },
  {
   "cell_type": "code",
   "execution_count": null,
   "metadata": {},
   "outputs": [],
   "source": []
  }
 ],
 "metadata": {
  "interpreter": {
   "hash": "b3ba2566441a7c06988d0923437866b63cedc61552a5af99d1f4fb67d367b25f"
  },
  "kernelspec": {
   "display_name": "Python 3.8.3 64-bit ('base': conda)",
   "name": "python3"
  },
  "language_info": {
   "codemirror_mode": {
    "name": "ipython",
    "version": 3
   },
   "file_extension": ".py",
   "mimetype": "text/x-python",
   "name": "python",
   "nbconvert_exporter": "python",
   "pygments_lexer": "ipython3",
   "version": "3.8.3"
  },
  "orig_nbformat": 4
 },
 "nbformat": 4,
 "nbformat_minor": 2
}
